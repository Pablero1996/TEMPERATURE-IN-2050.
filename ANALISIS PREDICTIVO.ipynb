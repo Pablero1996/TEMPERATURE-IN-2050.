{
 "cells": [
  {
   "cell_type": "markdown",
   "metadata": {},
   "source": [
    "# ANÁLISIS PREDICTIVO"
   ]
  },
  {
   "cell_type": "code",
   "execution_count": 1,
   "metadata": {},
   "outputs": [],
   "source": [
    "#Importando librerías\n",
    "\n",
    "import pandas as pd\n",
    "import numpy as np\n",
    "import matplotlib.pyplot as plt\n",
    "import datetime\n",
    "from datetime import date\n",
    "import seaborn as sns\n",
    "from sklearn.preprocessing import StandardScaler\n",
    "from scipy import stats\n",
    "import warnings\n",
    "warnings.filterwarnings('ignore') # Para evitar los molestos avisos.\n",
    "%matplotlib inline\n",
    "plt.rcParams[\"figure.figsize\"] = (15,8)"
   ]
  },
  {
   "cell_type": "code",
   "execution_count": 3,
   "metadata": {},
   "outputs": [
    {
     "data": {
      "text/html": [
       "<div>\n",
       "<style scoped>\n",
       "    .dataframe tbody tr th:only-of-type {\n",
       "        vertical-align: middle;\n",
       "    }\n",
       "\n",
       "    .dataframe tbody tr th {\n",
       "        vertical-align: top;\n",
       "    }\n",
       "\n",
       "    .dataframe thead th {\n",
       "        text-align: right;\n",
       "    }\n",
       "</style>\n",
       "<table border=\"1\" class=\"dataframe\">\n",
       "  <thead>\n",
       "    <tr style=\"text-align: right;\">\n",
       "      <th></th>\n",
       "      <th>Country or Area</th>\n",
       "      <th>Year</th>\n",
       "      <th>Metano</th>\n",
       "      <th>Co2</th>\n",
       "      <th>N2o</th>\n",
       "      <th>Temperature</th>\n",
       "      <th>Code</th>\n",
       "      <th>Hydropower</th>\n",
       "      <th>Solar</th>\n",
       "      <th>Wind</th>\n",
       "      <th>Other renewables</th>\n",
       "    </tr>\n",
       "  </thead>\n",
       "  <tbody>\n",
       "    <tr>\n",
       "      <th>0</th>\n",
       "      <td>Australia</td>\n",
       "      <td>2018</td>\n",
       "      <td>109532.0</td>\n",
       "      <td>415953</td>\n",
       "      <td>20114.0</td>\n",
       "      <td>1.112</td>\n",
       "      <td>AUS</td>\n",
       "      <td>1.726</td>\n",
       "      <td>12.00000</td>\n",
       "      <td>16.266</td>\n",
       "      <td>3.539</td>\n",
       "    </tr>\n",
       "    <tr>\n",
       "      <th>1</th>\n",
       "      <td>Australia</td>\n",
       "      <td>2017</td>\n",
       "      <td>108170.0</td>\n",
       "      <td>415097</td>\n",
       "      <td>21265.0</td>\n",
       "      <td>1.117</td>\n",
       "      <td>AUS</td>\n",
       "      <td>1.353</td>\n",
       "      <td>8.00000</td>\n",
       "      <td>13.193</td>\n",
       "      <td>3.543</td>\n",
       "    </tr>\n",
       "    <tr>\n",
       "      <th>2</th>\n",
       "      <td>Australia</td>\n",
       "      <td>2016</td>\n",
       "      <td>105873.0</td>\n",
       "      <td>411031</td>\n",
       "      <td>19566.0</td>\n",
       "      <td>1.142</td>\n",
       "      <td>AUS</td>\n",
       "      <td>1.768</td>\n",
       "      <td>7.00000</td>\n",
       "      <td>13.026</td>\n",
       "      <td>3.648</td>\n",
       "    </tr>\n",
       "    <tr>\n",
       "      <th>3</th>\n",
       "      <td>Australia</td>\n",
       "      <td>2015</td>\n",
       "      <td>105368.0</td>\n",
       "      <td>401554</td>\n",
       "      <td>19557.0</td>\n",
       "      <td>1.051</td>\n",
       "      <td>AUS</td>\n",
       "      <td>1.394</td>\n",
       "      <td>5.00000</td>\n",
       "      <td>11.802</td>\n",
       "      <td>3.691</td>\n",
       "    </tr>\n",
       "    <tr>\n",
       "      <th>4</th>\n",
       "      <td>Australia</td>\n",
       "      <td>2014</td>\n",
       "      <td>105070.0</td>\n",
       "      <td>394116</td>\n",
       "      <td>20096.0</td>\n",
       "      <td>1.139</td>\n",
       "      <td>AUS</td>\n",
       "      <td>1.453</td>\n",
       "      <td>4.00000</td>\n",
       "      <td>9.777</td>\n",
       "      <td>3.546</td>\n",
       "    </tr>\n",
       "    <tr>\n",
       "      <th>...</th>\n",
       "      <td>...</td>\n",
       "      <td>...</td>\n",
       "      <td>...</td>\n",
       "      <td>...</td>\n",
       "      <td>...</td>\n",
       "      <td>...</td>\n",
       "      <td>...</td>\n",
       "      <td>...</td>\n",
       "      <td>...</td>\n",
       "      <td>...</td>\n",
       "      <td>...</td>\n",
       "    </tr>\n",
       "    <tr>\n",
       "      <th>1171</th>\n",
       "      <td>Brasil</td>\n",
       "      <td>2014</td>\n",
       "      <td>567542.0</td>\n",
       "      <td>552841</td>\n",
       "      <td>NaN</td>\n",
       "      <td>1.293</td>\n",
       "      <td>BRA</td>\n",
       "      <td>373.439</td>\n",
       "      <td>0.01608</td>\n",
       "      <td>12.210</td>\n",
       "      <td>46.384</td>\n",
       "    </tr>\n",
       "    <tr>\n",
       "      <th>1172</th>\n",
       "      <td>Brasil</td>\n",
       "      <td>2015</td>\n",
       "      <td>532432.0</td>\n",
       "      <td>521457</td>\n",
       "      <td>NaN</td>\n",
       "      <td>1.697</td>\n",
       "      <td>BRA</td>\n",
       "      <td>359.742</td>\n",
       "      <td>0.05891</td>\n",
       "      <td>21.625</td>\n",
       "      <td>49.236</td>\n",
       "    </tr>\n",
       "    <tr>\n",
       "      <th>1173</th>\n",
       "      <td>Brasil</td>\n",
       "      <td>2016</td>\n",
       "      <td>576542.0</td>\n",
       "      <td>488167</td>\n",
       "      <td>NaN</td>\n",
       "      <td>1.607</td>\n",
       "      <td>BRA</td>\n",
       "      <td>380.910</td>\n",
       "      <td>0.08526</td>\n",
       "      <td>33.488</td>\n",
       "      <td>51.040</td>\n",
       "    </tr>\n",
       "    <tr>\n",
       "      <th>1174</th>\n",
       "      <td>Brasil</td>\n",
       "      <td>2017</td>\n",
       "      <td>534321.0</td>\n",
       "      <td>497271</td>\n",
       "      <td>NaN</td>\n",
       "      <td>1.498</td>\n",
       "      <td>BRA</td>\n",
       "      <td>370.906</td>\n",
       "      <td>0.83181</td>\n",
       "      <td>42.373</td>\n",
       "      <td>51.272</td>\n",
       "    </tr>\n",
       "    <tr>\n",
       "      <th>1175</th>\n",
       "      <td>Brasil</td>\n",
       "      <td>2018</td>\n",
       "      <td>598765.0</td>\n",
       "      <td>479969</td>\n",
       "      <td>NaN</td>\n",
       "      <td>1.284</td>\n",
       "      <td>BRA</td>\n",
       "      <td>387.686</td>\n",
       "      <td>3.13700</td>\n",
       "      <td>48.479</td>\n",
       "      <td>52.889</td>\n",
       "    </tr>\n",
       "  </tbody>\n",
       "</table>\n",
       "<p>1176 rows × 11 columns</p>\n",
       "</div>"
      ],
      "text/plain": [
       "     Country or Area  Year    Metano     Co2      N2o  Temperature Code  \\\n",
       "0          Australia  2018  109532.0  415953  20114.0        1.112  AUS   \n",
       "1          Australia  2017  108170.0  415097  21265.0        1.117  AUS   \n",
       "2          Australia  2016  105873.0  411031  19566.0        1.142  AUS   \n",
       "3          Australia  2015  105368.0  401554  19557.0        1.051  AUS   \n",
       "4          Australia  2014  105070.0  394116  20096.0        1.139  AUS   \n",
       "...              ...   ...       ...     ...      ...          ...  ...   \n",
       "1171          Brasil  2014  567542.0  552841      NaN        1.293  BRA   \n",
       "1172          Brasil  2015  532432.0  521457      NaN        1.697  BRA   \n",
       "1173          Brasil  2016  576542.0  488167      NaN        1.607  BRA   \n",
       "1174          Brasil  2017  534321.0  497271      NaN        1.498  BRA   \n",
       "1175          Brasil  2018  598765.0  479969      NaN        1.284  BRA   \n",
       "\n",
       "     Hydropower     Solar    Wind  Other renewables  \n",
       "0         1.726  12.00000  16.266             3.539  \n",
       "1         1.353   8.00000  13.193             3.543  \n",
       "2         1.768   7.00000  13.026             3.648  \n",
       "3         1.394   5.00000  11.802             3.691  \n",
       "4         1.453   4.00000   9.777             3.546  \n",
       "...         ...       ...     ...               ...  \n",
       "1171    373.439   0.01608  12.210            46.384  \n",
       "1172    359.742   0.05891  21.625            49.236  \n",
       "1173    380.910   0.08526  33.488            51.040  \n",
       "1174    370.906   0.83181  42.373            51.272  \n",
       "1175    387.686   3.13700  48.479            52.889  \n",
       "\n",
       "[1176 rows x 11 columns]"
      ]
     },
     "execution_count": 3,
     "metadata": {},
     "output_type": "execute_result"
    }
   ],
   "source": [
    "#PREPARAMOS DATASET\n",
    "datos = pd.read_csv('dataset.csv', sep=\";\", decimal='.')\n",
    "datos\n",
    "\n",
    "# Asignar nombre a las columnas\n",
    "columnas=['Unnamed: 0', 'Country or Area', 'Year', 'Metano', 'Co2', 'N2o',\n",
    "       'Temperature', 'Code', 'Hydropower',\n",
    "       'Solar', 'Wind',\n",
    "       'Other renewables']\n",
    "\n",
    "# Descargar el dataset\n",
    "datos = pd.read_csv('dataset.csv', sep=\";\", names=columnas, header=0,thousands=' ', decimal='.')\n",
    "\n",
    "#Eliminar columnas sin nombre\n",
    "datos=datos.drop(['Unnamed: 0'], axis=1)\n",
    "datos"
   ]
  },
  {
   "cell_type": "code",
   "execution_count": 4,
   "metadata": {},
   "outputs": [
    {
     "data": {
      "text/html": [
       "<div>\n",
       "<style scoped>\n",
       "    .dataframe tbody tr th:only-of-type {\n",
       "        vertical-align: middle;\n",
       "    }\n",
       "\n",
       "    .dataframe tbody tr th {\n",
       "        vertical-align: top;\n",
       "    }\n",
       "\n",
       "    .dataframe thead th {\n",
       "        text-align: right;\n",
       "    }\n",
       "</style>\n",
       "<table border=\"1\" class=\"dataframe\">\n",
       "  <thead>\n",
       "    <tr style=\"text-align: right;\">\n",
       "      <th></th>\n",
       "      <th>Country or Area</th>\n",
       "      <th>Year</th>\n",
       "      <th>Metano</th>\n",
       "      <th>Co2</th>\n",
       "      <th>N2o</th>\n",
       "      <th>Temperature</th>\n",
       "      <th>Code</th>\n",
       "      <th>Hydropower</th>\n",
       "      <th>Solar</th>\n",
       "      <th>Wind</th>\n",
       "      <th>Other renewables</th>\n",
       "    </tr>\n",
       "  </thead>\n",
       "  <tbody>\n",
       "    <tr>\n",
       "      <th>0</th>\n",
       "      <td>Australia</td>\n",
       "      <td>2018</td>\n",
       "      <td>109532.0</td>\n",
       "      <td>415953</td>\n",
       "      <td>20114.0</td>\n",
       "      <td>1.112</td>\n",
       "      <td>AUS</td>\n",
       "      <td>1.726</td>\n",
       "      <td>12.0</td>\n",
       "      <td>16.266</td>\n",
       "      <td>3.539</td>\n",
       "    </tr>\n",
       "    <tr>\n",
       "      <th>1</th>\n",
       "      <td>Australia</td>\n",
       "      <td>2017</td>\n",
       "      <td>108170.0</td>\n",
       "      <td>415097</td>\n",
       "      <td>21265.0</td>\n",
       "      <td>1.117</td>\n",
       "      <td>AUS</td>\n",
       "      <td>1.353</td>\n",
       "      <td>8.0</td>\n",
       "      <td>13.193</td>\n",
       "      <td>3.543</td>\n",
       "    </tr>\n",
       "    <tr>\n",
       "      <th>2</th>\n",
       "      <td>Australia</td>\n",
       "      <td>2016</td>\n",
       "      <td>105873.0</td>\n",
       "      <td>411031</td>\n",
       "      <td>19566.0</td>\n",
       "      <td>1.142</td>\n",
       "      <td>AUS</td>\n",
       "      <td>1.768</td>\n",
       "      <td>7.0</td>\n",
       "      <td>13.026</td>\n",
       "      <td>3.648</td>\n",
       "    </tr>\n",
       "    <tr>\n",
       "      <th>3</th>\n",
       "      <td>Australia</td>\n",
       "      <td>2015</td>\n",
       "      <td>105368.0</td>\n",
       "      <td>401554</td>\n",
       "      <td>19557.0</td>\n",
       "      <td>1.051</td>\n",
       "      <td>AUS</td>\n",
       "      <td>1.394</td>\n",
       "      <td>5.0</td>\n",
       "      <td>11.802</td>\n",
       "      <td>3.691</td>\n",
       "    </tr>\n",
       "    <tr>\n",
       "      <th>4</th>\n",
       "      <td>Australia</td>\n",
       "      <td>2014</td>\n",
       "      <td>105070.0</td>\n",
       "      <td>394116</td>\n",
       "      <td>20096.0</td>\n",
       "      <td>1.139</td>\n",
       "      <td>AUS</td>\n",
       "      <td>1.453</td>\n",
       "      <td>4.0</td>\n",
       "      <td>9.777</td>\n",
       "      <td>3.546</td>\n",
       "    </tr>\n",
       "  </tbody>\n",
       "</table>\n",
       "</div>"
      ],
      "text/plain": [
       "  Country or Area  Year    Metano     Co2      N2o  Temperature Code  \\\n",
       "0       Australia  2018  109532.0  415953  20114.0        1.112  AUS   \n",
       "1       Australia  2017  108170.0  415097  21265.0        1.117  AUS   \n",
       "2       Australia  2016  105873.0  411031  19566.0        1.142  AUS   \n",
       "3       Australia  2015  105368.0  401554  19557.0        1.051  AUS   \n",
       "4       Australia  2014  105070.0  394116  20096.0        1.139  AUS   \n",
       "\n",
       "  Hydropower  Solar    Wind  Other renewables  \n",
       "0      1.726   12.0  16.266             3.539  \n",
       "1      1.353    8.0  13.193             3.543  \n",
       "2      1.768    7.0  13.026             3.648  \n",
       "3      1.394    5.0  11.802             3.691  \n",
       "4      1.453    4.0   9.777             3.546  "
      ]
     },
     "execution_count": 4,
     "metadata": {},
     "output_type": "execute_result"
    }
   ],
   "source": [
    "#ESTIMAMOS VALORES AUSENTES\n",
    "import numpy as np\n",
    "from sklearn.impute import SimpleImputer\n",
    "\n",
    "datos[\"N2o\"]=datos[\"N2o\"].fillna(datos[\"N2o\"].mean())\n",
    "datos[\"Metano\"]=datos[\"Metano\"].fillna(datos[\"Metano\"].mean())\n",
    "datos.head()"
   ]
  },
  {
   "cell_type": "markdown",
   "metadata": {},
   "source": [
    "Comprobamos que no haya valores nulos o vacíos."
   ]
  },
  {
   "cell_type": "code",
   "execution_count": 5,
   "metadata": {},
   "outputs": [
    {
     "data": {
      "text/plain": [
       "Country or Area     0\n",
       "Year                0\n",
       "Metano              0\n",
       "Co2                 0\n",
       "N2o                 0\n",
       "Temperature         0\n",
       "Code                0\n",
       "Hydropower          0\n",
       "Solar               0\n",
       "Wind                0\n",
       "Other renewables    0\n",
       "dtype: int64"
      ]
     },
     "execution_count": 5,
     "metadata": {},
     "output_type": "execute_result"
    }
   ],
   "source": [
    "datos.isnull().sum()"
   ]
  },
  {
   "cell_type": "code",
   "execution_count": 6,
   "metadata": {},
   "outputs": [
    {
     "data": {
      "text/html": [
       "<div>\n",
       "<style scoped>\n",
       "    .dataframe tbody tr th:only-of-type {\n",
       "        vertical-align: middle;\n",
       "    }\n",
       "\n",
       "    .dataframe tbody tr th {\n",
       "        vertical-align: top;\n",
       "    }\n",
       "\n",
       "    .dataframe thead th {\n",
       "        text-align: right;\n",
       "    }\n",
       "</style>\n",
       "<table border=\"1\" class=\"dataframe\">\n",
       "  <thead>\n",
       "    <tr style=\"text-align: right;\">\n",
       "      <th></th>\n",
       "      <th>Metano</th>\n",
       "      <th>Co2</th>\n",
       "      <th>N2o</th>\n",
       "      <th>Temperature</th>\n",
       "      <th>Hydropower</th>\n",
       "      <th>Solar</th>\n",
       "      <th>Wind</th>\n",
       "      <th>Other renewables</th>\n",
       "    </tr>\n",
       "  </thead>\n",
       "  <tbody>\n",
       "    <tr>\n",
       "      <th>0</th>\n",
       "      <td>109532.0</td>\n",
       "      <td>415953</td>\n",
       "      <td>20114.000000</td>\n",
       "      <td>1.112</td>\n",
       "      <td>1.726</td>\n",
       "      <td>12.00000</td>\n",
       "      <td>16.266</td>\n",
       "      <td>3.539</td>\n",
       "    </tr>\n",
       "    <tr>\n",
       "      <th>1</th>\n",
       "      <td>108170.0</td>\n",
       "      <td>415097</td>\n",
       "      <td>21265.000000</td>\n",
       "      <td>1.117</td>\n",
       "      <td>1.353</td>\n",
       "      <td>8.00000</td>\n",
       "      <td>13.193</td>\n",
       "      <td>3.543</td>\n",
       "    </tr>\n",
       "    <tr>\n",
       "      <th>2</th>\n",
       "      <td>105873.0</td>\n",
       "      <td>411031</td>\n",
       "      <td>19566.000000</td>\n",
       "      <td>1.142</td>\n",
       "      <td>1.768</td>\n",
       "      <td>7.00000</td>\n",
       "      <td>13.026</td>\n",
       "      <td>3.648</td>\n",
       "    </tr>\n",
       "    <tr>\n",
       "      <th>3</th>\n",
       "      <td>105368.0</td>\n",
       "      <td>401554</td>\n",
       "      <td>19557.000000</td>\n",
       "      <td>1.051</td>\n",
       "      <td>1.394</td>\n",
       "      <td>5.00000</td>\n",
       "      <td>11.802</td>\n",
       "      <td>3.691</td>\n",
       "    </tr>\n",
       "    <tr>\n",
       "      <th>4</th>\n",
       "      <td>105070.0</td>\n",
       "      <td>394116</td>\n",
       "      <td>20096.000000</td>\n",
       "      <td>1.139</td>\n",
       "      <td>1.453</td>\n",
       "      <td>4.00000</td>\n",
       "      <td>9.777</td>\n",
       "      <td>3.546</td>\n",
       "    </tr>\n",
       "    <tr>\n",
       "      <th>...</th>\n",
       "      <td>...</td>\n",
       "      <td>...</td>\n",
       "      <td>...</td>\n",
       "      <td>...</td>\n",
       "      <td>...</td>\n",
       "      <td>...</td>\n",
       "      <td>...</td>\n",
       "      <td>...</td>\n",
       "    </tr>\n",
       "    <tr>\n",
       "      <th>1171</th>\n",
       "      <td>567542.0</td>\n",
       "      <td>552841</td>\n",
       "      <td>25558.171717</td>\n",
       "      <td>1.293</td>\n",
       "      <td>373.439</td>\n",
       "      <td>0.01608</td>\n",
       "      <td>12.210</td>\n",
       "      <td>46.384</td>\n",
       "    </tr>\n",
       "    <tr>\n",
       "      <th>1172</th>\n",
       "      <td>532432.0</td>\n",
       "      <td>521457</td>\n",
       "      <td>25558.171717</td>\n",
       "      <td>1.697</td>\n",
       "      <td>359.742</td>\n",
       "      <td>0.05891</td>\n",
       "      <td>21.625</td>\n",
       "      <td>49.236</td>\n",
       "    </tr>\n",
       "    <tr>\n",
       "      <th>1173</th>\n",
       "      <td>576542.0</td>\n",
       "      <td>488167</td>\n",
       "      <td>25558.171717</td>\n",
       "      <td>1.607</td>\n",
       "      <td>380.910</td>\n",
       "      <td>0.08526</td>\n",
       "      <td>33.488</td>\n",
       "      <td>51.040</td>\n",
       "    </tr>\n",
       "    <tr>\n",
       "      <th>1174</th>\n",
       "      <td>534321.0</td>\n",
       "      <td>497271</td>\n",
       "      <td>25558.171717</td>\n",
       "      <td>1.498</td>\n",
       "      <td>370.906</td>\n",
       "      <td>0.83181</td>\n",
       "      <td>42.373</td>\n",
       "      <td>51.272</td>\n",
       "    </tr>\n",
       "    <tr>\n",
       "      <th>1175</th>\n",
       "      <td>598765.0</td>\n",
       "      <td>479969</td>\n",
       "      <td>25558.171717</td>\n",
       "      <td>1.284</td>\n",
       "      <td>387.686</td>\n",
       "      <td>3.13700</td>\n",
       "      <td>48.479</td>\n",
       "      <td>52.889</td>\n",
       "    </tr>\n",
       "  </tbody>\n",
       "</table>\n",
       "<p>1176 rows × 8 columns</p>\n",
       "</div>"
      ],
      "text/plain": [
       "        Metano     Co2           N2o  Temperature Hydropower     Solar  \\\n",
       "0     109532.0  415953  20114.000000        1.112      1.726  12.00000   \n",
       "1     108170.0  415097  21265.000000        1.117      1.353   8.00000   \n",
       "2     105873.0  411031  19566.000000        1.142      1.768   7.00000   \n",
       "3     105368.0  401554  19557.000000        1.051      1.394   5.00000   \n",
       "4     105070.0  394116  20096.000000        1.139      1.453   4.00000   \n",
       "...        ...     ...           ...          ...        ...       ...   \n",
       "1171  567542.0  552841  25558.171717        1.293    373.439   0.01608   \n",
       "1172  532432.0  521457  25558.171717        1.697    359.742   0.05891   \n",
       "1173  576542.0  488167  25558.171717        1.607    380.910   0.08526   \n",
       "1174  534321.0  497271  25558.171717        1.498    370.906   0.83181   \n",
       "1175  598765.0  479969  25558.171717        1.284    387.686   3.13700   \n",
       "\n",
       "        Wind  Other renewables  \n",
       "0     16.266             3.539  \n",
       "1     13.193             3.543  \n",
       "2     13.026             3.648  \n",
       "3     11.802             3.691  \n",
       "4      9.777             3.546  \n",
       "...      ...               ...  \n",
       "1171  12.210            46.384  \n",
       "1172  21.625            49.236  \n",
       "1173  33.488            51.040  \n",
       "1174  42.373            51.272  \n",
       "1175  48.479            52.889  \n",
       "\n",
       "[1176 rows x 8 columns]"
      ]
     },
     "execution_count": 6,
     "metadata": {},
     "output_type": "execute_result"
    }
   ],
   "source": [
    "datos=datos.drop(columns=[\"Country or Area\",\"Code\",\"Year\"])\n",
    "datos\n",
    "\n",
    "#Hemos normalizado los valores ausentes, como hemos podido ver en el análisis exploratorio y además hemos eliminado las\n",
    "#columnas no numéricas para proceder con la normalización."
   ]
  },
  {
   "cell_type": "code",
   "execution_count": 7,
   "metadata": {},
   "outputs": [
    {
     "data": {
      "text/plain": [
       "Metano              float64\n",
       "Co2                   int64\n",
       "N2o                 float64\n",
       "Temperature         float64\n",
       "Hydropower           object\n",
       "Solar               float64\n",
       "Wind                float64\n",
       "Other renewables    float64\n",
       "dtype: object"
      ]
     },
     "execution_count": 7,
     "metadata": {},
     "output_type": "execute_result"
    }
   ],
   "source": [
    "datos.dtypes"
   ]
  },
  {
   "cell_type": "code",
   "execution_count": 8,
   "metadata": {},
   "outputs": [],
   "source": [
    "datos[\"Metano\"]=datos[\"Metano\"].astype('int')\n",
    "datos[\"N2o\"]=datos[\"N2o\"].astype('int')\n",
    "datos[\"Temperature\"]=datos[\"Temperature\"].astype('float64')\n",
    "\n",
    "\n",
    "datos[\"Hydropower\"] = pd.to_numeric(datos.Hydropower, errors='coerce')\n",
    "\n",
    "\n",
    "\n",
    "#datos[\"Hydropower\"]=datos[\"Hydropower\"].astype('int')\n",
    "#datos[\"Solar\"]=datos[\"Solar\"].astype('float64')\n",
    "#datos[\"Wind\"]=datos[\"Wind\"].astype('float64')\n",
    "datos[\"Other renewables\"]=datos[\"Other renewables\"].astype('float64')\n",
    "\n",
    "#Para proceder con el minMax necesitamos que todos los datos sean numericos. Por eso hemos pasado todos los datos a integer y float."
   ]
  },
  {
   "cell_type": "code",
   "execution_count": 9,
   "metadata": {},
   "outputs": [
    {
     "data": {
      "text/html": [
       "<div>\n",
       "<style scoped>\n",
       "    .dataframe tbody tr th:only-of-type {\n",
       "        vertical-align: middle;\n",
       "    }\n",
       "\n",
       "    .dataframe tbody tr th {\n",
       "        vertical-align: top;\n",
       "    }\n",
       "\n",
       "    .dataframe thead th {\n",
       "        text-align: right;\n",
       "    }\n",
       "</style>\n",
       "<table border=\"1\" class=\"dataframe\">\n",
       "  <thead>\n",
       "    <tr style=\"text-align: right;\">\n",
       "      <th></th>\n",
       "      <th>Metano</th>\n",
       "      <th>Co2</th>\n",
       "      <th>N2o</th>\n",
       "      <th>Temperature</th>\n",
       "      <th>Hydropower</th>\n",
       "      <th>Solar</th>\n",
       "      <th>Wind</th>\n",
       "      <th>Other renewables</th>\n",
       "    </tr>\n",
       "  </thead>\n",
       "  <tbody>\n",
       "    <tr>\n",
       "      <th>0</th>\n",
       "      <td>109532</td>\n",
       "      <td>415953</td>\n",
       "      <td>20114</td>\n",
       "      <td>1.112</td>\n",
       "      <td>1.726</td>\n",
       "      <td>12.0</td>\n",
       "      <td>16.266</td>\n",
       "      <td>3.539</td>\n",
       "    </tr>\n",
       "    <tr>\n",
       "      <th>1</th>\n",
       "      <td>108170</td>\n",
       "      <td>415097</td>\n",
       "      <td>21265</td>\n",
       "      <td>1.117</td>\n",
       "      <td>1.353</td>\n",
       "      <td>8.0</td>\n",
       "      <td>13.193</td>\n",
       "      <td>3.543</td>\n",
       "    </tr>\n",
       "    <tr>\n",
       "      <th>2</th>\n",
       "      <td>105873</td>\n",
       "      <td>411031</td>\n",
       "      <td>19566</td>\n",
       "      <td>1.142</td>\n",
       "      <td>1.768</td>\n",
       "      <td>7.0</td>\n",
       "      <td>13.026</td>\n",
       "      <td>3.648</td>\n",
       "    </tr>\n",
       "    <tr>\n",
       "      <th>3</th>\n",
       "      <td>105368</td>\n",
       "      <td>401554</td>\n",
       "      <td>19557</td>\n",
       "      <td>1.051</td>\n",
       "      <td>1.394</td>\n",
       "      <td>5.0</td>\n",
       "      <td>11.802</td>\n",
       "      <td>3.691</td>\n",
       "    </tr>\n",
       "    <tr>\n",
       "      <th>4</th>\n",
       "      <td>105070</td>\n",
       "      <td>394116</td>\n",
       "      <td>20096</td>\n",
       "      <td>1.139</td>\n",
       "      <td>1.453</td>\n",
       "      <td>4.0</td>\n",
       "      <td>9.777</td>\n",
       "      <td>3.546</td>\n",
       "    </tr>\n",
       "  </tbody>\n",
       "</table>\n",
       "</div>"
      ],
      "text/plain": [
       "   Metano     Co2    N2o  Temperature  Hydropower  Solar    Wind  \\\n",
       "0  109532  415953  20114        1.112       1.726   12.0  16.266   \n",
       "1  108170  415097  21265        1.117       1.353    8.0  13.193   \n",
       "2  105873  411031  19566        1.142       1.768    7.0  13.026   \n",
       "3  105368  401554  19557        1.051       1.394    5.0  11.802   \n",
       "4  105070  394116  20096        1.139       1.453    4.0   9.777   \n",
       "\n",
       "   Other renewables  \n",
       "0             3.539  \n",
       "1             3.543  \n",
       "2             3.648  \n",
       "3             3.691  \n",
       "4             3.546  "
      ]
     },
     "execution_count": 9,
     "metadata": {},
     "output_type": "execute_result"
    }
   ],
   "source": [
    "datos.head()"
   ]
  },
  {
   "cell_type": "code",
   "execution_count": 10,
   "metadata": {},
   "outputs": [
    {
     "data": {
      "text/plain": [
       "Metano                int32\n",
       "Co2                   int64\n",
       "N2o                   int32\n",
       "Temperature         float64\n",
       "Hydropower          float64\n",
       "Solar               float64\n",
       "Wind                float64\n",
       "Other renewables    float64\n",
       "dtype: object"
      ]
     },
     "execution_count": 10,
     "metadata": {},
     "output_type": "execute_result"
    }
   ],
   "source": [
    "datos.dtypes"
   ]
  },
  {
   "cell_type": "markdown",
   "metadata": {},
   "source": [
    "### NORMALIZAMOS mediante MinMaxScaler"
   ]
  },
  {
   "cell_type": "code",
   "execution_count": 11,
   "metadata": {},
   "outputs": [
    {
     "data": {
      "text/html": [
       "<div>\n",
       "<style scoped>\n",
       "    .dataframe tbody tr th:only-of-type {\n",
       "        vertical-align: middle;\n",
       "    }\n",
       "\n",
       "    .dataframe tbody tr th {\n",
       "        vertical-align: top;\n",
       "    }\n",
       "\n",
       "    .dataframe thead th {\n",
       "        text-align: right;\n",
       "    }\n",
       "</style>\n",
       "<table border=\"1\" class=\"dataframe\">\n",
       "  <thead>\n",
       "    <tr style=\"text-align: right;\">\n",
       "      <th></th>\n",
       "      <th>Metano</th>\n",
       "      <th>Co2</th>\n",
       "      <th>N2o</th>\n",
       "      <th>Temperature</th>\n",
       "      <th>Hydropower</th>\n",
       "      <th>Solar</th>\n",
       "      <th>Wind</th>\n",
       "      <th>Other renewables</th>\n",
       "    </tr>\n",
       "  </thead>\n",
       "  <tbody>\n",
       "    <tr>\n",
       "      <th>0</th>\n",
       "      <td>0.051229</td>\n",
       "      <td>0.037098</td>\n",
       "      <td>0.043076</td>\n",
       "      <td>0.566939</td>\n",
       "      <td>0.001898</td>\n",
       "      <td>0.039047</td>\n",
       "      <td>0.044443</td>\n",
       "      <td>0.037334</td>\n",
       "    </tr>\n",
       "    <tr>\n",
       "      <th>1</th>\n",
       "      <td>0.050589</td>\n",
       "      <td>0.037021</td>\n",
       "      <td>0.045575</td>\n",
       "      <td>0.568138</td>\n",
       "      <td>0.001487</td>\n",
       "      <td>0.026031</td>\n",
       "      <td>0.036046</td>\n",
       "      <td>0.037376</td>\n",
       "    </tr>\n",
       "    <tr>\n",
       "      <th>2</th>\n",
       "      <td>0.049509</td>\n",
       "      <td>0.036657</td>\n",
       "      <td>0.041886</td>\n",
       "      <td>0.574136</td>\n",
       "      <td>0.001944</td>\n",
       "      <td>0.022777</td>\n",
       "      <td>0.035590</td>\n",
       "      <td>0.038483</td>\n",
       "    </tr>\n",
       "    <tr>\n",
       "      <th>3</th>\n",
       "      <td>0.049271</td>\n",
       "      <td>0.035807</td>\n",
       "      <td>0.041867</td>\n",
       "      <td>0.552303</td>\n",
       "      <td>0.001533</td>\n",
       "      <td>0.016269</td>\n",
       "      <td>0.032246</td>\n",
       "      <td>0.038937</td>\n",
       "    </tr>\n",
       "    <tr>\n",
       "      <th>4</th>\n",
       "      <td>0.049131</td>\n",
       "      <td>0.035140</td>\n",
       "      <td>0.043037</td>\n",
       "      <td>0.573417</td>\n",
       "      <td>0.001597</td>\n",
       "      <td>0.013016</td>\n",
       "      <td>0.026713</td>\n",
       "      <td>0.037407</td>\n",
       "    </tr>\n",
       "  </tbody>\n",
       "</table>\n",
       "</div>"
      ],
      "text/plain": [
       "     Metano       Co2       N2o  Temperature  Hydropower     Solar      Wind  \\\n",
       "0  0.051229  0.037098  0.043076     0.566939    0.001898  0.039047  0.044443   \n",
       "1  0.050589  0.037021  0.045575     0.568138    0.001487  0.026031  0.036046   \n",
       "2  0.049509  0.036657  0.041886     0.574136    0.001944  0.022777  0.035590   \n",
       "3  0.049271  0.035807  0.041867     0.552303    0.001533  0.016269  0.032246   \n",
       "4  0.049131  0.035140  0.043037     0.573417    0.001597  0.013016  0.026713   \n",
       "\n",
       "   Other renewables  \n",
       "0          0.037334  \n",
       "1          0.037376  \n",
       "2          0.038483  \n",
       "3          0.038937  \n",
       "4          0.037407  "
      ]
     },
     "execution_count": 11,
     "metadata": {},
     "output_type": "execute_result"
    }
   ],
   "source": [
    "from sklearn import preprocessing\n",
    "import pandas as pd\n",
    "\n",
    "#NORMALIZAMOS TODO EL DATASET\n",
    "scaler=preprocessing.MinMaxScaler()\n",
    "names=datos.columns\n",
    "datos = scaler.fit_transform(datos)\n",
    "datos= pd.DataFrame(datos, columns=names)\n",
    "datos.head()"
   ]
  },
  {
   "cell_type": "markdown",
   "metadata": {},
   "source": [
    "Los pasos anteriores simplemente era la carga de datos, ajustarlos y tratarlos como se hizo en el análisis exploratorio. Además de sustituir los Na, ya que sabemos que los NA nos afectarían para el análisis predictivo."
   ]
  },
  {
   "cell_type": "code",
   "execution_count": 12,
   "metadata": {
    "scrolled": false
   },
   "outputs": [],
   "source": [
    "#Iniciamos el proceso del análisis predictivo con el tratado de los datos y que así nos permitan trabajar con el modelo\n",
    "#predictivo sin problema alguno\n",
    "\n",
    "X=datos.iloc[:,1:4].values\n",
    "y=datos.iloc[:,5].values\n",
    "#Simplemente generamos los valores de X(METANO,CO2,N2O), e Y(Temperature)"
   ]
  },
  {
   "cell_type": "markdown",
   "metadata": {},
   "source": [
    "### TRAIN-TEST"
   ]
  },
  {
   "cell_type": "code",
   "execution_count": 13,
   "metadata": {},
   "outputs": [],
   "source": [
    "from sklearn.model_selection import train_test_split\n",
    "X_train, X_test, y_train, y_test = train_test_split(X, y, test_size=0.3)\n",
    "\n",
    "#Entrenamos los modelos mediante train_test_split. Los valores entrenados serán de un 70%."
   ]
  },
  {
   "cell_type": "markdown",
   "metadata": {},
   "source": [
    "Dado que tenemos valores continuos, nos encontramos ante un problema de regresión. Para ello vamos a llevar a cabo un algoritmo de aprendizaje supervisado: SVR (Support Vector Regression). \n",
    "#### Support Vector Regression.\n",
    "Dado un conjunto de ejemplos de entrenamiento (de muestras) podemos etiquetar las clases y entrenar una SVM para construir un modelo que prediga la clase de una nueva muestra. Intuitivamente, una SVM es un modelo que representa a los puntos de muestra en el espacio, separando las clases a 2 espacios lo más amplios posibles mediante un hiperplano de separación definido como el vector entre los 2 puntos, de las 2 clases, más cercanos al que se llama vector soporte. "
   ]
  },
  {
   "cell_type": "markdown",
   "metadata": {},
   "source": [
    "Para ello cargamos las distintas librerías de sklearn:"
   ]
  },
  {
   "cell_type": "code",
   "execution_count": 14,
   "metadata": {},
   "outputs": [],
   "source": [
    "from sklearn.naive_bayes import MultinomialNB\n",
    "from sklearn import svm\n",
    "from sklearn.svm import SVR\n",
    "from sklearn.multiclass import OneVsRestClassifier\n",
    "from sklearn.preprocessing import LabelBinarizer\n",
    "\n",
    "#clf = svm.SVC(kernel = 'linear',gamma=0.001, C=100.)\n",
    "clf=svm.SVR(kernel = 'linear',gamma=0.001, C=100.)"
   ]
  },
  {
   "cell_type": "code",
   "execution_count": 15,
   "metadata": {
    "scrolled": true
   },
   "outputs": [
    {
     "data": {
      "text/plain": [
       "SVR(C=100.0, cache_size=200, coef0=0.0, degree=3, epsilon=0.1, gamma=0.001,\n",
       "    kernel='linear', max_iter=-1, shrinking=True, tol=0.001, verbose=False)"
      ]
     },
     "execution_count": 15,
     "metadata": {},
     "output_type": "execute_result"
    }
   ],
   "source": [
    "clf.fit(X_train,y_train)"
   ]
  },
  {
   "cell_type": "code",
   "execution_count": 16,
   "metadata": {},
   "outputs": [
    {
     "data": {
      "text/plain": [
       "SVR(C=100.0, cache_size=200, coef0=0.0, degree=3, epsilon=0.1, gamma=0.001,\n",
       "    kernel='linear', max_iter=-1, shrinking=True, tol=0.001, verbose=False)"
      ]
     },
     "execution_count": 16,
     "metadata": {},
     "output_type": "execute_result"
    }
   ],
   "source": [
    "clf"
   ]
  },
  {
   "cell_type": "code",
   "execution_count": 17,
   "metadata": {},
   "outputs": [],
   "source": [
    "y_pred=clf.predict(X_test)"
   ]
  },
  {
   "cell_type": "code",
   "execution_count": 18,
   "metadata": {},
   "outputs": [
    {
     "data": {
      "text/plain": [
       "array([0.09535187, 0.09664052, 0.09661573, 0.09495629, 0.09636436,\n",
       "       0.09506969, 0.09610785, 0.09621705, 0.09788409, 0.10889435,\n",
       "       0.09623091, 0.09636755, 0.09557467, 0.09656384, 0.09702991,\n",
       "       0.09620493, 0.09697831, 0.09526453, 0.09525479, 0.09673437,\n",
       "       0.09532502, 0.09552909, 0.09643918, 0.09485905, 0.09542811,\n",
       "       0.09615782, 0.0952407 , 0.09641084, 0.09986226, 0.1005693 ,\n",
       "       0.09631919, 0.0961425 , 0.09617283, 0.09849313, 0.09681393,\n",
       "       0.09637172, 0.09674037, 0.09665511, 0.09600241, 0.09602887,\n",
       "       0.09671248, 0.09595618, 0.09623968, 0.09598865, 0.10014795,\n",
       "       0.09700957, 0.0964118 , 0.09583849, 0.0974864 , 0.09532745,\n",
       "       0.09691738, 0.09712284, 0.09556874, 0.09611864, 0.09643243,\n",
       "       0.09687984, 0.09636481, 0.09553239, 0.09503591, 0.09572851,\n",
       "       0.09658626, 0.097783  , 0.09611687, 0.09677423, 0.0986571 ,\n",
       "       0.0964639 , 0.09707555, 0.09548455, 0.09637578, 0.09570773,\n",
       "       0.09591467, 0.09635252, 0.09661609, 0.0964919 , 0.09700106,\n",
       "       0.09541435, 0.09677768, 0.09647351, 0.0963803 , 0.09611999,\n",
       "       0.09637923, 0.09704584, 0.09596465, 0.09650535, 0.09596201,\n",
       "       0.09549283, 0.09609533, 0.09712784, 0.09744042, 0.09576231,\n",
       "       0.09983034, 0.09644012, 0.09501195, 0.09564903, 0.09626686,\n",
       "       0.09680673, 0.09650599, 0.09646493, 0.09609862, 0.09682895,\n",
       "       0.09662451, 0.09606211, 0.09659928, 0.0961008 , 0.09596388,\n",
       "       0.0963792 , 0.09568242, 0.09561565, 0.09680965, 0.09694228,\n",
       "       0.09748259, 0.10022086, 0.0957961 , 0.09660583, 0.09632007,\n",
       "       0.09691808, 0.09697114, 0.09562746, 0.09654204, 0.09656861,\n",
       "       0.09588623, 0.09570751, 0.09625243, 0.10136562, 0.09576998,\n",
       "       0.09636996, 0.0989198 , 0.09610296, 0.09667644, 0.09613213,\n",
       "       0.0971799 , 0.09772692, 0.09650994, 0.09675668, 0.09626467,\n",
       "       0.09640293, 0.09562193, 0.09572807, 0.09642358, 0.09752828,\n",
       "       0.09639938, 0.09659377, 0.09577089, 0.09675612, 0.09768362,\n",
       "       0.09645446, 0.0961435 , 0.09630878, 0.09783733, 0.09589251,\n",
       "       0.0955476 , 0.0959155 , 0.09650681, 0.09668229, 0.09637529,\n",
       "       0.09611057, 0.09571854, 0.09559613, 0.09671262, 0.09660308,\n",
       "       0.09591919, 0.09507248, 0.09684996, 0.09692283, 0.09659529,\n",
       "       0.10092638, 0.09523223, 0.09614571, 0.10495229, 0.09580087,\n",
       "       0.09566773, 0.09593416, 0.09571136, 0.10446961, 0.09561911,\n",
       "       0.09659191, 0.09634541, 0.09798848, 0.09637706, 0.09568834,\n",
       "       0.09508952, 0.09711518, 0.09584355, 0.09543459, 0.09658503,\n",
       "       0.09521735, 0.0967175 , 0.09559436, 0.0956552 , 0.09629096,\n",
       "       0.09491934, 0.09572876, 0.09647728, 0.09517632, 0.0976135 ,\n",
       "       0.09603039, 0.09507349, 0.09620315, 0.09688372, 0.09730578,\n",
       "       0.096717  , 0.09702488, 0.09573991, 0.09581475, 0.0965289 ,\n",
       "       0.09610081, 0.09573274, 0.0959793 , 0.0977489 , 0.0970148 ,\n",
       "       0.09620354, 0.09614074, 0.0967074 , 0.09664812, 0.09590593,\n",
       "       0.09572719, 0.09602813, 0.10713688, 0.0969293 , 0.0960164 ,\n",
       "       0.09734946, 0.09591227, 0.09568913, 0.09701614, 0.09635301,\n",
       "       0.09602434, 0.09625005, 0.09602866, 0.09585099, 0.09536216,\n",
       "       0.09694685, 0.09659896, 0.09626558, 0.09723843, 0.09581792,\n",
       "       0.09642626, 0.09524873, 0.09613043, 0.10029547, 0.09571366,\n",
       "       0.10154697, 0.09653292, 0.09558319, 0.09530418, 0.09647653,\n",
       "       0.0956945 , 0.09563824, 0.09661696, 0.09635995, 0.09666933,\n",
       "       0.09657644, 0.09547733, 0.09659901, 0.09614769, 0.09654003,\n",
       "       0.09559419, 0.09576101, 0.09536554, 0.09611337, 0.09635613,\n",
       "       0.09738165, 0.09677928, 0.09483809, 0.09604069, 0.09611195,\n",
       "       0.09599826, 0.09634481, 0.09711135, 0.0970476 , 0.09588282,\n",
       "       0.09633119, 0.09742173, 0.09587153, 0.09702549, 0.09574944,\n",
       "       0.09645181, 0.09635423, 0.09660786, 0.09758072, 0.09649496,\n",
       "       0.09546351, 0.0956556 , 0.09644794, 0.09626469, 0.09631546,\n",
       "       0.09692329, 0.09601024, 0.09592961, 0.09594492, 0.09574041,\n",
       "       0.09608381, 0.09677841, 0.09699296, 0.09615321, 0.09637711,\n",
       "       0.09612647, 0.09668711, 0.09611328, 0.09674436, 0.09650994,\n",
       "       0.0967384 , 0.09657211, 0.09598278, 0.0963864 , 0.0947683 ,\n",
       "       0.09570731, 0.09710164, 0.09597195, 0.10918905, 0.09565758,\n",
       "       0.09580563, 0.09661907, 0.09657916, 0.09616286, 0.09594532,\n",
       "       0.09724048, 0.09563764, 0.1007319 , 0.0954353 , 0.09723835,\n",
       "       0.09679094, 0.0971945 , 0.09624881, 0.09707421, 0.09630681,\n",
       "       0.09684379, 0.09665029, 0.09657062, 0.09794843, 0.09590658,\n",
       "       0.09607691, 0.09572554, 0.09519584, 0.09560621, 0.09558191,\n",
       "       0.09530483, 0.09659713, 0.09640975, 0.09637066, 0.09447968,\n",
       "       0.09555772, 0.09597933, 0.09738653, 0.09688156, 0.09526967,\n",
       "       0.09604988, 0.09702132, 0.09580454, 0.09609929, 0.09608135,\n",
       "       0.09574982, 0.09548152, 0.09649824])"
      ]
     },
     "execution_count": 18,
     "metadata": {},
     "output_type": "execute_result"
    }
   ],
   "source": [
    "y_pred"
   ]
  },
  {
   "cell_type": "code",
   "execution_count": null,
   "metadata": {},
   "outputs": [],
   "source": [
    "from sklearn.metrics import mean_squared_error\n",
    "mean_squared_error(y_test, y_pred)"
   ]
  },
  {
   "cell_type": "markdown",
   "metadata": {},
   "source": [
    "### PCR"
   ]
  },
  {
   "cell_type": "code",
   "execution_count": null,
   "metadata": {},
   "outputs": [],
   "source": [
    "#!pip install hoggorm\n",
    "import hoggorm as ho"
   ]
  },
  {
   "cell_type": "code",
   "execution_count": null,
   "metadata": {},
   "outputs": [],
   "source": [
    "model = ho.nipalsPCA(arrX=X_train, numComp=3, Xstand=False)"
   ]
  },
  {
   "cell_type": "code",
   "execution_count": null,
   "metadata": {},
   "outputs": [],
   "source": [
    "scores = model.X_scores()\n",
    "loadings = model.X_loadings()\n",
    "cumulativeCalibratedExplainedVariance_allVariables = model.X_cumCalExplVar_indVar()"
   ]
  },
  {
   "cell_type": "code",
   "execution_count": null,
   "metadata": {},
   "outputs": [],
   "source": []
  },
  {
   "cell_type": "markdown",
   "metadata": {},
   "source": [
    "## Principal component analysis (PCA) \n",
    "https://www.cienciadedatos.net/documentos/py19-pca-python.html"
   ]
  },
  {
   "cell_type": "markdown",
   "metadata": {},
   "source": [
    "El análisis de componentes principales (Principal Component Analysis PCA) es un método de reducción de dimensionalidad que permite simplificar la complejidad de espacios con múltiples dimensiones a la vez que conserva su información.\n",
    "\n",
    "Se describe un conjunto de datos en términos de nuevas variables («componentes») no correlacionadas. Los componentes se ordenan por la cantidad de varianza original que describen, por lo que la técnica es útil para reducir la dimensionalidad de un conjunto de datos."
   ]
  },
  {
   "cell_type": "markdown",
   "metadata": {},
   "source": [
    "Las librerías utilizadas son:"
   ]
  },
  {
   "cell_type": "code",
   "execution_count": null,
   "metadata": {},
   "outputs": [],
   "source": [
    "# Tratamiento de datos\n",
    "# ==============================================================================\n",
    "import numpy as np\n",
    "import pandas as pd\n",
    "import statsmodels.api as sm\n",
    "\n",
    "# Gráficos\n",
    "# ==============================================================================\n",
    "import matplotlib.pyplot as plt\n",
    "import matplotlib.font_manager\n",
    "from matplotlib import style\n",
    "style.use('ggplot') or plt.style.use('ggplot')\n",
    "\n",
    "# Preprocesado y modelado\n",
    "# ==============================================================================\n",
    "from sklearn.decomposition import PCA\n",
    "from sklearn.pipeline import make_pipeline\n",
    "from sklearn.preprocessing import StandardScaler\n",
    "from sklearn.preprocessing import scale\n",
    "\n",
    "# Configuración warnings\n",
    "# ==============================================================================\n",
    "import warnings\n",
    "warnings.filterwarnings('ignore')"
   ]
  },
  {
   "cell_type": "code",
   "execution_count": null,
   "metadata": {},
   "outputs": [],
   "source": [
    "datos = datos.dropna(axis=0)"
   ]
  },
  {
   "cell_type": "markdown",
   "metadata": {},
   "source": [
    "#### Modelo PCA"
   ]
  },
  {
   "cell_type": "code",
   "execution_count": null,
   "metadata": {},
   "outputs": [],
   "source": [
    "# Entrenamiento modelo PCA con escalado de los datos\n",
    "# ==============================================================================\n",
    "pca_pipe = make_pipeline(StandardScaler(), PCA())\n",
    "pca_pipe.fit(datos)\n",
    "\n",
    "# Se extrae el modelo entrenado del pipeline\n",
    "modelo_pca = pca_pipe.named_steps['pca']"
   ]
  },
  {
   "cell_type": "markdown",
   "metadata": {},
   "source": [
    "#### Interpretación"
   ]
  },
  {
   "cell_type": "code",
   "execution_count": null,
   "metadata": {},
   "outputs": [],
   "source": [
    "# Se combierte el array a dataframe para añadir nombres a los ejes.\n",
    "pd.DataFrame(\n",
    "    data    = modelo_pca.components_,\n",
    "    columns = datos.columns,\n",
    "    index   = ['PC1', 'PC2', 'PC3', 'PC4','PC5', 'PC6', 'PC7', 'PC8']\n",
    ")"
   ]
  },
  {
   "cell_type": "markdown",
   "metadata": {},
   "source": [
    "Podemos visualizar la influencia de las variables en cada componente con un gráfico de tipo heatmap."
   ]
  },
  {
   "cell_type": "code",
   "execution_count": null,
   "metadata": {},
   "outputs": [],
   "source": [
    "# Heatmap componentes\n",
    "# ==============================================================================\n",
    "fig, ax = plt.subplots(nrows=1, ncols=1, figsize=(4, 2))\n",
    "componentes = modelo_pca.components_\n",
    "plt.imshow(componentes.T, cmap='viridis', aspect='auto')\n",
    "plt.yticks(range(len(datos.columns)), datos.columns)\n",
    "plt.xticks(range(len(datos.columns)), np.arange(modelo_pca.n_components_) + 1)\n",
    "plt.grid(False)\n",
    "plt.colorbar();"
   ]
  },
  {
   "cell_type": "markdown",
   "metadata": {},
   "source": [
    "Una vez calculadas las componentes principales, se puede conocer la varianza explicada por cada una de ellas, la proporción respecto al total y la proporción de varianza acumulada. Esta información está almacenada en los atributos explained_variance_ y explained_variance_ratio_ del modelo."
   ]
  },
  {
   "cell_type": "code",
   "execution_count": null,
   "metadata": {},
   "outputs": [],
   "source": [
    "# Porcentaje de varianza explicada por cada componente\n",
    "# ==============================================================================\n",
    "print('----------------------------------------------------')\n",
    "print('Porcentaje de varianza explicada por cada componente')\n",
    "print('----------------------------------------------------')\n",
    "print(modelo_pca.explained_variance_ratio_)\n",
    "\n",
    "fig, ax = plt.subplots(nrows=1, ncols=1, figsize=(6, 4))\n",
    "ax.bar(\n",
    "    x      = np.arange(modelo_pca.n_components_) + 1,\n",
    "    height = modelo_pca.explained_variance_ratio_\n",
    ")\n",
    "\n",
    "for x, y in zip(np.arange(len(datos.columns)) + 1, modelo_pca.explained_variance_ratio_):\n",
    "    label = round(y, 2)\n",
    "    ax.annotate(\n",
    "        label,\n",
    "        (x,y),\n",
    "        textcoords=\"offset points\",\n",
    "        xytext=(0,10),\n",
    "        ha='center'\n",
    "    )\n",
    "\n",
    "ax.set_xticks(np.arange(modelo_pca.n_components_) + 1)\n",
    "ax.set_ylim(0, 1.1)\n",
    "ax.set_title('Porcentaje de varianza explicada por cada componente')\n",
    "ax.set_xlabel('Componente principal')\n",
    "ax.set_ylabel('Por. varianza explicada');"
   ]
  },
  {
   "cell_type": "markdown",
   "metadata": {},
   "source": [
    "En este caso, la primera componente explica el 51% de la varianza observada en los datos y la segunda el 16%. Las dos últimas componentes no superan por separado el 2% de varianza explicada"
   ]
  },
  {
   "cell_type": "code",
   "execution_count": null,
   "metadata": {},
   "outputs": [],
   "source": [
    "# Porcentaje de varianza explicada acumulada\n",
    "# ==============================================================================\n",
    "prop_varianza_acum = modelo_pca.explained_variance_ratio_.cumsum()\n",
    "print('------------------------------------------')\n",
    "print('Porcentaje de varianza explicada acumulada')\n",
    "print('------------------------------------------')\n",
    "print(prop_varianza_acum)\n",
    "\n",
    "fig, ax = plt.subplots(nrows=1, ncols=1, figsize=(6, 4))\n",
    "ax.plot(\n",
    "    np.arange(len(datos.columns)) + 1,\n",
    "    prop_varianza_acum,\n",
    "    marker = 'o'\n",
    ")\n",
    "\n",
    "for x, y in zip(np.arange(len(datos.columns)) + 1, prop_varianza_acum):\n",
    "    label = round(y, 2)\n",
    "    ax.annotate(\n",
    "        label,\n",
    "        (x,y),\n",
    "        textcoords=\"offset points\",\n",
    "        xytext=(0,10),\n",
    "        ha='center'\n",
    "    )\n",
    "    \n",
    "ax.set_ylim(0, 1.1)\n",
    "ax.set_xticks(np.arange(modelo_pca.n_components_) + 1)\n",
    "ax.set_title('Porcentaje de varianza explicada acumulada')\n",
    "ax.set_xlabel('Componente principal')\n",
    "ax.set_ylabel('Por. varianza acumulada');"
   ]
  },
  {
   "cell_type": "markdown",
   "metadata": {},
   "source": [
    "Si se empleasemos las cuatro primeras componentes se conseguiría explicar el 88% de la varianza observada."
   ]
  },
  {
   "cell_type": "markdown",
   "metadata": {},
   "source": [
    "#### Transformación."
   ]
  },
  {
   "cell_type": "markdown",
   "metadata": {},
   "source": [
    "Una vez entrenado el modelo, con el método transform() se puede reducir la dimensionalidad de nuevas observaciones proyectándolas en el espacio definido por las componentes."
   ]
  },
  {
   "cell_type": "code",
   "execution_count": null,
   "metadata": {},
   "outputs": [],
   "source": [
    "# Proyección de las observaciones de entrenamiento\n",
    "# ==============================================================================\n",
    "proyecciones = pca_pipe.transform(X=datos)\n",
    "proyecciones = pd.DataFrame(\n",
    "    proyecciones,\n",
    "    columns = ['PC1', 'PC2', 'PC3', 'PC4','PC5', 'PC6', 'PC7', 'PC8'],\n",
    "    index   = datos.index\n",
    ")\n",
    "proyecciones.head()\n"
   ]
  },
  {
   "cell_type": "markdown",
   "metadata": {},
   "source": [
    "La transformación es el resultado de multiplicar los vectores que definen cada componente con el valor de las variables. Puede calcularse de forma manual:"
   ]
  },
  {
   "cell_type": "code",
   "execution_count": null,
   "metadata": {
    "scrolled": true
   },
   "outputs": [],
   "source": [
    "proyecciones = np.dot(modelo_pca.components_, scale(datos).T)\n",
    "proyecciones = pd.DataFrame(proyecciones, index = ['PC1', 'PC2', 'PC3', 'PC4','PC5', 'PC6', 'PC7', 'PC8'])\n",
    "proyecciones = proyecciones.transpose().set_index(datos.index)\n",
    "proyecciones.head()"
   ]
  },
  {
   "cell_type": "markdown",
   "metadata": {},
   "source": [
    "#### Reconstrucción."
   ]
  },
  {
   "cell_type": "markdown",
   "metadata": {},
   "source": [
    "Puede revertirse la transformación y reconstruir el valor inicial con el método inverse_transform(). Es importante tener en cuenta que, la reconstrucción, solo será completa si se han incluido todas las componentes."
   ]
  },
  {
   "cell_type": "code",
   "execution_count": null,
   "metadata": {},
   "outputs": [],
   "source": [
    "# Recostruccion de las proyecciones\n",
    "# ==============================================================================\n",
    "recostruccion = pca_pipe.inverse_transform(X=proyecciones)\n",
    "recostruccion = pd.DataFrame(\n",
    "                    recostruccion,\n",
    "                    columns = datos.columns,\n",
    "                    index   = datos.index\n",
    ")\n",
    "print('------------------')\n",
    "print('Valores originales')\n",
    "print('------------------')\n",
    "display(recostruccion.head())\n",
    "\n",
    "print('---------------------')\n",
    "print('Valores reconstruidos')\n",
    "print('---------------------')\n",
    "display(datos.head())"
   ]
  },
  {
   "cell_type": "code",
   "execution_count": null,
   "metadata": {},
   "outputs": [],
   "source": [
    "# Tratamiento de datos\n",
    "# ==============================================================================\n",
    "import numpy as np\n",
    "import pandas as pd\n",
    "import statsmodels.api as sm\n",
    "\n",
    "# Gráficos\n",
    "# ==============================================================================\n",
    "import matplotlib.pyplot as plt\n",
    "import matplotlib.font_manager\n",
    "from matplotlib import style\n",
    "style.use('ggplot') or plt.style.use('ggplot')\n",
    "\n",
    "# Preprocesado y modelado\n",
    "# ==============================================================================\n",
    "from sklearn.decomposition import PCA\n",
    "from sklearn.pipeline import make_pipeline\n",
    "from sklearn.preprocessing import StandardScaler\n",
    "from sklearn.model_selection import KFold\n",
    "from sklearn.model_selection import GridSearchCV\n",
    "from sklearn.linear_model import LinearRegression\n",
    "from sklearn.model_selection import train_test_split\n",
    "from sklearn.metrics import mean_squared_error\n",
    "import multiprocessing\n",
    "# Configuración warnings\n",
    "# ==============================================================================\n",
    "import warnings\n",
    "warnings.filterwarnings('ignore')"
   ]
  },
  {
   "cell_type": "markdown",
   "metadata": {},
   "source": [
    "# Mínimos cuadrados (OLS)"
   ]
  },
  {
   "cell_type": "code",
   "execution_count": null,
   "metadata": {},
   "outputs": [],
   "source": [
    "# Creación y entrenamiento del modelo\n",
    "# ==============================================================================\n",
    "modelo = LinearRegression(normalize=True)\n",
    "modelo.fit(X = X_train, y = y_train)"
   ]
  },
  {
   "cell_type": "code",
   "execution_count": null,
   "metadata": {},
   "outputs": [],
   "source": [
    "# Predicciones test\n",
    "# ==============================================================================\n",
    "predicciones = modelo.predict(X=X_test)\n",
    "predicciones = predicciones.flatten()\n",
    "\n",
    "# Error de test del modelo \n",
    "# ==============================================================================\n",
    "rmse_ols = mean_squared_error(\n",
    "            y_true  = y_test,\n",
    "            y_pred  = predicciones\n",
    "           )\n",
    "print(\"\")\n",
    "print(f\"El error (rmse) de test es: {rmse_ols}\")"
   ]
  },
  {
   "cell_type": "markdown",
   "metadata": {},
   "source": [
    "# PCR\n"
   ]
  },
  {
   "cell_type": "markdown",
   "metadata": {},
   "source": [
    "Para combinar PCA con regresión lineal, se crea un pipeline que combine ambos procesos. Dado que no se puede conocer\n",
    "a priori el número de componentes óptimo, se recurre a validación cruzada."
   ]
  },
  {
   "cell_type": "code",
   "execution_count": null,
   "metadata": {},
   "outputs": [],
   "source": [
    "# Entrenamiento modelo de regresión precedido por PCA con escalado\n",
    "# ==============================================================================\n",
    "pipe_modelado = make_pipeline(StandardScaler(), PCA(), LinearRegression())\n",
    "pipe_modelado.fit(X=X_train, y=y_train)"
   ]
  },
  {
   "cell_type": "code",
   "execution_count": null,
   "metadata": {},
   "outputs": [],
   "source": [
    "pipe_modelado.set_params"
   ]
  },
  {
   "cell_type": "code",
   "execution_count": null,
   "metadata": {},
   "outputs": [],
   "source": [
    "# Predicciones test\n",
    "# ==============================================================================\n",
    "predicciones = pipe_modelado.predict(X=X_test)\n",
    "predicciones = predicciones.flatten()\n",
    "\n",
    "# Error de test del modelo \n",
    "# ==============================================================================\n",
    "rmse_pcr = mean_squared_error(\n",
    "            y_true  = y_test,\n",
    "            y_pred  = predicciones,\n",
    "           )\n",
    "print(\"\")\n",
    "print(f\"El error (rmse) de test es: {rmse_pcr}\")"
   ]
  },
  {
   "cell_type": "code",
   "execution_count": null,
   "metadata": {},
   "outputs": [],
   "source": [
    "# ==============================================================================\n",
    "param_grid = {'pca__n_components': [1, 2,3]}\n",
    "\n",
    "# Búsqueda por grid search con validación cruzada\n",
    "# ==============================================================================\n",
    "grid = GridSearchCV(\n",
    "        estimator  = pipe_modelado,\n",
    "        param_grid = param_grid,\n",
    "        scoring    = 'neg_mean_squared_error',\n",
    "        n_jobs     = multiprocessing.cpu_count() - 1,\n",
    "        cv         = KFold(n_splits=5, random_state=123), \n",
    "        refit      = True,\n",
    "        verbose    = 0,\n",
    "        return_train_score = True\n",
    "       )\n",
    "\n",
    "grid.fit(X = X_train, y = y_train)\n",
    "\n",
    "# Resultados\n",
    "# ==============================================================================\n",
    "resultados = pd.DataFrame(grid.cv_results_)\n",
    "resultados.filter(regex = '(param.*|mean_t|std_t)') \\\n",
    "    .drop(columns = 'params') \\\n",
    "    .sort_values('mean_test_score', ascending = False) \\\n",
    "    .head(3)"
   ]
  },
  {
   "cell_type": "code",
   "execution_count": null,
   "metadata": {},
   "outputs": [],
   "source": [
    "# ==============================================================================\n",
    "fig, ax = plt.subplots(nrows=1, ncols=1, figsize=(7, 5), sharey=True)\n",
    "\n",
    "resultados.plot('param_pca__n_components', 'mean_train_score', ax=ax)\n",
    "resultados.plot('param_pca__n_components', 'mean_test_score', ax=ax)\n",
    "ax.fill_between(resultados.param_pca__n_components.astype(np.float),\n",
    "                resultados['mean_train_score'] + resultados['std_train_score'],\n",
    "                resultados['mean_train_score'] - resultados['std_train_score'],\n",
    "                alpha=0.2)\n",
    "ax.fill_between(resultados.param_pca__n_components.astype(np.float),\n",
    "                resultados['mean_test_score'] + resultados['std_test_score'],\n",
    "                resultados['mean_test_score'] - resultados['std_test_score'],\n",
    "                alpha=0.2)\n",
    "ax.legend()\n",
    "ax.set_title('Evolución del error CV')\n",
    "ax.set_ylabel('neg_root_mean_squared_error');"
   ]
  },
  {
   "cell_type": "code",
   "execution_count": null,
   "metadata": {},
   "outputs": [],
   "source": [
    "# Mejores hiperparámetros por validación cruzada\n",
    "# ==============================================================================\n",
    "print(\"----------------------------------------\")\n",
    "print(\"Mejores hiperparámetros encontrados (cv)\")\n",
    "print(\"----------------------------------------\")\n",
    "print(grid.best_params_, \":\", grid.best_score_, grid.scoring)"
   ]
  },
  {
   "cell_type": "markdown",
   "metadata": {},
   "source": [
    "Los resultados de validación cruzada muestran que, el mejor modelo, se obtiene empleando las 3 primeras componentes. \n",
    "Sin embargo, teniendo en cuenta la evolución del error y su intervalo, no se consiguen mejoras significativas con más\n",
    "componentes. \n",
    "Siguiendo el principio de parsimonia, el mejor modelo es el que emplea únicamente las 3 primeras \n",
    "componentes. \n",
    "Se reentrena el modelo indicando esta configuración."
   ]
  },
  {
   "cell_type": "code",
   "execution_count": null,
   "metadata": {},
   "outputs": [],
   "source": [
    "# Entrenamiento modelo de regresión precedido por PCA con escalado\n",
    "# ==============================================================================\n",
    "pipe_modelado = make_pipeline(StandardScaler(), PCA(n_components=2), LinearRegression())\n",
    "pipe_modelado.fit(X=X_train, y=y_train)"
   ]
  },
  {
   "cell_type": "code",
   "execution_count": null,
   "metadata": {},
   "outputs": [],
   "source": [
    "# ==============================================================================\n",
    "predicciones = pipe_modelado.predict(X=X_test)\n",
    "predicciones = predicciones.flatten()\n",
    "\n",
    "# Error de test del modelo \n",
    "# ==============================================================================\n",
    "rmse_pcr = mean_squared_error(\n",
    "            y_true  = y_test,\n",
    "            y_pred  = predicciones\n",
    "           )\n",
    "print(\"\")\n",
    "print(f\"El error (rmse) de test es: {rmse_pcr}\")\n"
   ]
  },
  {
   "cell_type": "markdown",
   "metadata": {},
   "source": [
    "Comprobamos el error para distinto número de componentes.\n",
    "Empleando las dos primeras componentes del PCA como predictores en lugar de las variables originales, se consigue aumentar el root mean squared error de 0.00033 a 0.00038.\n",
    "Siendo el error (rmse), con 3 componentes nos da un resultado de 0.0003."
   ]
  },
  {
   "cell_type": "code",
   "execution_count": null,
   "metadata": {},
   "outputs": [],
   "source": []
  },
  {
   "cell_type": "code",
   "execution_count": null,
   "metadata": {},
   "outputs": [],
   "source": []
  },
  {
   "cell_type": "code",
   "execution_count": null,
   "metadata": {},
   "outputs": [],
   "source": []
  },
  {
   "cell_type": "code",
   "execution_count": null,
   "metadata": {},
   "outputs": [],
   "source": []
  },
  {
   "cell_type": "code",
   "execution_count": null,
   "metadata": {},
   "outputs": [],
   "source": [
    "def plot_svc_2D(X,y, model):\n",
    "    \"\"\"Plot the decision function for a 2D SVC\"\"\"\n",
    "    \n",
    "    plt.scatter(X[:, 0], X[:, 1], c=y, cmap='autumn')\n",
    "    ax = plt.gca() # devuelve los ejes\n",
    "    xlim = ax.get_xlim()\n",
    "    ylim = ax.get_ylim()\n",
    "    \n",
    "    # create grid to evaluate model\n",
    "    x = np.linspace(xlim[0], xlim[1], 30)\n",
    "    y = np.linspace(ylim[0], ylim[1], 30)\n",
    "    Y, X = np.meshgrid(y, x)\n",
    "    xy = np.vstack([X.ravel(), Y.ravel()]).T\n",
    "    P = model.decision_function(xy).reshape(X.shape)\n",
    "    \n",
    "    # plot decision boundary and margins\n",
    "    ax.contour(X, Y, P, colors='k',\n",
    "               levels=[-1, 0, 1], alpha=0.5,\n",
    "               linestyles=['--', '-', '--'])\n",
    "    \n",
    "    # plot support vectors\n",
    "    ax.scatter(model.support_vectors_[:, 0],model.support_vectors_[:, 1],\n",
    "                   s=3, linewidth=10, c= 'blue');\n",
    "    #límite eje x\n",
    "    ax.set_xlim(xlim)\n",
    "    #límite eje y\n",
    "    ax.set_ylim(ylim)"
   ]
  },
  {
   "cell_type": "code",
   "execution_count": null,
   "metadata": {},
   "outputs": [],
   "source": [
    "plt.scatter(X[0:,0],X[:,1],c=y,s=50,cmap=\"autumn\")"
   ]
  },
  {
   "cell_type": "code",
   "execution_count": null,
   "metadata": {},
   "outputs": [],
   "source": [
    "plot_svc_2D(X,y,clf_datos)"
   ]
  },
  {
   "cell_type": "markdown",
   "metadata": {},
   "source": [
    "### Árboles de decisión (algoritmo supervisado de aprendizaje automático)"
   ]
  },
  {
   "cell_type": "markdown",
   "metadata": {},
   "source": [
    "Vamos a crear un árbol de decisión, es decir, un modelo predictivo que divida el espacio de los predictores agrupando observaciones con valores similares para la variable respuesta o dependiente."
   ]
  },
  {
   "cell_type": "markdown",
   "metadata": {},
   "source": [
    "Creamos el clasificador DecisionTreeClassifier"
   ]
  },
  {
   "cell_type": "code",
   "execution_count": null,
   "metadata": {},
   "outputs": [],
   "source": [
    "from sklearn import tree\n",
    "clf = tree.DecisionTreeRegressor()"
   ]
  },
  {
   "cell_type": "markdown",
   "metadata": {},
   "source": [
    "Entrenamos nuestro clasificador con los datos de entrenamiento: X_train y y_train."
   ]
  },
  {
   "cell_type": "code",
   "execution_count": null,
   "metadata": {},
   "outputs": [],
   "source": [
    "clf.fit(X_train,y_train)"
   ]
  },
  {
   "cell_type": "markdown",
   "metadata": {},
   "source": [
    "Predecimos sobre los datos de test"
   ]
  },
  {
   "cell_type": "code",
   "execution_count": null,
   "metadata": {},
   "outputs": [],
   "source": [
    "y_pred = clf.predict(X_test)"
   ]
  },
  {
   "cell_type": "markdown",
   "metadata": {},
   "source": [
    "Evaluamos"
   ]
  },
  {
   "cell_type": "code",
   "execution_count": null,
   "metadata": {},
   "outputs": [],
   "source": [
    "from sklearn.metrics import accuracy_score\n",
    "from sklearn.metrics import classification_report"
   ]
  },
  {
   "cell_type": "code",
   "execution_count": null,
   "metadata": {},
   "outputs": [],
   "source": [
    "from sklearn.metrics import mean_squared_error\n",
    "mean_squared_error(y_test, y_pred)"
   ]
  },
  {
   "cell_type": "markdown",
   "metadata": {},
   "source": [
    "Obtenemos una precisión muy alta del 99%. ¿Sobreajuste? \\\n",
    "Habría que probar variando los parámetros del clasificador para mejorar la precisión, en caso de que este mal planteado."
   ]
  },
  {
   "cell_type": "markdown",
   "metadata": {},
   "source": [
    "Definimos las siguientes funciones para visualizar el árbol de distintas maneras."
   ]
  },
  {
   "cell_type": "code",
   "execution_count": null,
   "metadata": {},
   "outputs": [],
   "source": [
    "import matplotlib.pyplot as plt\n",
    "import graphviz \n",
    "from sklearn import tree"
   ]
  },
  {
   "cell_type": "code",
   "execution_count": null,
   "metadata": {},
   "outputs": [],
   "source": [
    "def print_decisionTree(clf):\n",
    "  plt.figure(figsize=(12,12))  # set plot size (denoted in inches)\n",
    "  tree.plot_tree(clf, fontsize=12)\n",
    "  plt.show()"
   ]
  },
  {
   "cell_type": "code",
   "execution_count": null,
   "metadata": {},
   "outputs": [],
   "source": [
    "def print_decisionTree_colour(clf,features,classes):\n",
    "  dot_data = tree.export_graphviz(clf, out_file=None, \n",
    "                        feature_names=features,  \n",
    "                        class_names=classes,  \n",
    "                        filled=True, rounded=True,  \n",
    "                        special_characters=True)  \n",
    "  graph = graphviz.Source(dot_data) \n",
    "  return graph  "
   ]
  },
  {
   "cell_type": "code",
   "execution_count": null,
   "metadata": {},
   "outputs": [],
   "source": [
    "def print_decisionTree_text(clf,features):\n",
    "  r = tree.export_text(clf, feature_names=features)\n",
    "  print(r)"
   ]
  },
  {
   "cell_type": "code",
   "execution_count": null,
   "metadata": {},
   "outputs": [],
   "source": [
    "print_decisionTree(clf)"
   ]
  },
  {
   "cell_type": "code",
   "execution_count": null,
   "metadata": {},
   "outputs": [],
   "source": [
    "columnas = list(datos.columns)\n",
    "columnas = columnas[1:4]\n",
    "columnas"
   ]
  },
  {
   "cell_type": "code",
   "execution_count": null,
   "metadata": {},
   "outputs": [],
   "source": [
    "print_decisionTree_colour(clf,columnas,['0','1','2'])"
   ]
  },
  {
   "cell_type": "code",
   "execution_count": null,
   "metadata": {},
   "outputs": [],
   "source": [
    "print_decisionTree_text(clf,columnas)"
   ]
  },
  {
   "cell_type": "markdown",
   "metadata": {},
   "source": [
    "Vamos a visualizar los clasificadores con la matriz de confusión, para ello definimos la siguiente función."
   ]
  },
  {
   "cell_type": "code",
   "execution_count": null,
   "metadata": {},
   "outputs": [],
   "source": [
    "import numpy as np\n",
    "import matplotlib.pyplot as plt\n",
    "from sklearn.metrics import plot_confusion_matrix\n",
    "\n",
    "\n",
    "def print_pretty_confusionMatrix(clf, features):\n",
    "  class_names = features\n",
    "  np.set_printoptions(precision=2)\n",
    "\n",
    "  # Plot non-normalized confusion matrix\n",
    "  titles_options = [(\"Confusion matrix\", None)]\n",
    "  for title, normalize in titles_options:\n",
    "      disp = plot_confusion_matrix(clf, X_test, y_test,\n",
    "                                  display_labels=class_names,\n",
    "                                  cmap=plt.cm.Blues,\n",
    "                                  normalize=normalize)\n",
    "      disp.ax_.set_title(title)\n",
    "\n",
    "      print(title)\n",
    "      print(disp.confusion_matrix)\n",
    "\n",
    "  plt.show()"
   ]
  },
  {
   "cell_type": "code",
   "execution_count": null,
   "metadata": {},
   "outputs": [],
   "source": [
    "print_pretty_confusionMatrix(clf, columnas)"
   ]
  },
  {
   "cell_type": "code",
   "execution_count": null,
   "metadata": {},
   "outputs": [],
   "source": []
  },
  {
   "cell_type": "markdown",
   "metadata": {},
   "source": [
    "# RED NEURONAL"
   ]
  },
  {
   "cell_type": "markdown",
   "metadata": {},
   "source": [
    "https://towardsdatascience.com/building-our-first-neural-network-in-keras-bdc8abbc17f5#:~:text=Building%20Neural%20Network%20Keras%20is%20a%20simple%20tool,20%20values%20and%20output%20is%20of%204%20values."
   ]
  },
  {
   "cell_type": "code",
   "execution_count": null,
   "metadata": {},
   "outputs": [],
   "source": [
    "X=datos.iloc[:,1:4].values\n",
    "y=datos.iloc[:,3:4].values"
   ]
  },
  {
   "cell_type": "code",
   "execution_count": null,
   "metadata": {},
   "outputs": [],
   "source": [
    "from sklearn.preprocessing import StandardScaler\n",
    "sc = StandardScaler()\n",
    "X = sc.fit_transform(X)\n",
    "#Simplemente normalizamos los datos.Duda: hay que normalizar dos veces??"
   ]
  },
  {
   "cell_type": "code",
   "execution_count": null,
   "metadata": {},
   "outputs": [],
   "source": [
    "from sklearn.preprocessing import OneHotEncoder\n",
    "ohe = OneHotEncoder()\n",
    "y = ohe.fit_transform(y).toarray()\n",
    "#Ahora nuestro dataset es procesado y preparado para limentar la red neuronal. "
   ]
  },
  {
   "cell_type": "code",
   "execution_count": null,
   "metadata": {},
   "outputs": [],
   "source": [
    "from sklearn.model_selection import train_test_split\n",
    "X_train,X_test,y_train,y_test = train_test_split(X,y,test_size = 0.1)\n",
    "#Dividimos el dataset en datso entrenados y testeados. Los datos entrenados tendrán un 90% de ejemplos y \n",
    "#test data un 10%."
   ]
  },
  {
   "cell_type": "markdown",
   "metadata": {},
   "source": [
    "# Building Neural Network\n"
   ]
  },
  {
   "cell_type": "markdown",
   "metadata": {},
   "source": [
    "Keras is a simple tool for constructing a neural network. It is a high-level framework based on tensorflow,\n",
    "theano or cntk backends."
   ]
  },
  {
   "cell_type": "code",
   "execution_count": null,
   "metadata": {},
   "outputs": [],
   "source": [
    "#Dependencies\n",
    "import keras\n",
    "from keras.models import Sequential\n",
    "from keras.layers import Dense\n",
    "import re\n",
    "# Neural network\n",
    "model = Sequential()\n",
    "model.add(Dense(16, input_dim=20, activation=\"relu\"))\n",
    "model.add(Dense(12, activation=\"relu\"))\n",
    "model.add(Dense(4, activation=\"softmax\"))"
   ]
  },
  {
   "cell_type": "code",
   "execution_count": null,
   "metadata": {},
   "outputs": [],
   "source": [
    "model.compile(loss='categorical_crossentropy', optimizer='adam', metrics=['accuracy'])"
   ]
  },
  {
   "cell_type": "code",
   "execution_count": null,
   "metadata": {},
   "outputs": [],
   "source": [
    "#Entrenamos el modelo\n",
    "history = model.fit(X_train, y_train, epochs=100, batch_size=64)"
   ]
  },
  {
   "cell_type": "code",
   "execution_count": null,
   "metadata": {},
   "outputs": [],
   "source": [
    "y_pred = model.predict(X_test)\n",
    "#Converting predictions to label\n",
    "pred = list()\n",
    "for i in range(len(y_pred)):\n",
    "    pred.append(np.argmax(y_pred[i]))\n",
    "#Converting one hot encoded test label to label\n",
    "test = list()\n",
    "for i in range(len(y_test)):\n",
    "    test.append(np.argmax(y_test[i]))"
   ]
  },
  {
   "cell_type": "markdown",
   "metadata": {},
   "source": [
    "This step is inverse one hot encoding process. We will get integer labels using this step. We can predict on test data \n",
    "using a simple method of keras, model.predict(). \n",
    "It will take the test data as input and will return the prediction outputs as softmax."
   ]
  },
  {
   "cell_type": "code",
   "execution_count": null,
   "metadata": {},
   "outputs": [],
   "source": [
    "from sklearn.metrics import accuracy_score\n",
    "a = accuracy_score(pred,test)\n",
    "print('Accuracy is:', a*100)\n",
    "#Obtenemos el accuracy "
   ]
  },
  {
   "cell_type": "markdown",
   "metadata": {},
   "source": [
    "Ahora podemos usar test data como validación y podemos comprobar los accuracys después de cada epoch"
   ]
  },
  {
   "cell_type": "code",
   "execution_count": null,
   "metadata": {},
   "outputs": [],
   "source": [
    "history = model.fit(X_train, y_train,validation_data = (X_test,y_test), epochs=100, batch_size=64)\n",
    "#Ahora la salida del entrenamiento contiene la validación del accuracy"
   ]
  },
  {
   "cell_type": "code",
   "execution_count": null,
   "metadata": {},
   "outputs": [],
   "source": [
    "#Ahora lo queremos visualizar "
   ]
  },
  {
   "cell_type": "code",
   "execution_count": null,
   "metadata": {},
   "outputs": [],
   "source": [
    "#model accuracy\n",
    "import matplotlib.pyplot as plt\n",
    "plt.plot(history.history['acc'])\n",
    "plt.plot(history.history['val_acc'])\n",
    "plt.title('Model accuracy')\n",
    "plt.ylabel('Accuracy')\n",
    "plt.xlabel('Epoch')\n",
    "plt.legend(['Train', 'Test'], loc='upper left')\n",
    "plt.show()"
   ]
  },
  {
   "cell_type": "code",
   "execution_count": null,
   "metadata": {},
   "outputs": [],
   "source": [
    "#Model loss\n",
    "plt.plot(history.history['loss']) plt.plot(history.history['val_loss']) \n",
    "plt.title('Model loss') \n",
    "plt.ylabel('Loss') \n",
    "plt.xlabel('Epoch') \n",
    "plt.legend(['Train', 'Test'], loc='upper left') \n",
    "plt.show()"
   ]
  },
  {
   "cell_type": "code",
   "execution_count": 1,
   "metadata": {},
   "outputs": [
    {
     "data": {
      "text/plain": [
       "-1"
      ]
     },
     "execution_count": 1,
     "metadata": {},
     "output_type": "execute_result"
    }
   ],
   "source": [
    "import os\n",
    "os.system(\"jupyter nbconvert --to html ANALISIS PREDICTIVO.ipynb\")\n"
   ]
  }
 ],
 "metadata": {
  "kernelspec": {
   "display_name": "Python 3",
   "language": "python",
   "name": "python3"
  },
  "language_info": {
   "codemirror_mode": {
    "name": "ipython",
    "version": 3
   },
   "file_extension": ".py",
   "mimetype": "text/x-python",
   "name": "python",
   "nbconvert_exporter": "python",
   "pygments_lexer": "ipython3",
   "version": "3.8.8"
  }
 },
 "nbformat": 4,
 "nbformat_minor": 2
}
